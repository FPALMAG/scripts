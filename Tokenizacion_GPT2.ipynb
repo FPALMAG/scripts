{
  "nbformat": 4,
  "nbformat_minor": 0,
  "metadata": {
    "colab": {
      "provenance": [],
      "authorship_tag": "ABX9TyPFYbDI/BwfvzJbQbRhZEnu"
    },
    "kernelspec": {
      "name": "python3",
      "display_name": "Python 3"
    },
    "language_info": {
      "name": "python"
    }
  },
  "cells": [
    {
      "cell_type": "code",
      "execution_count": null,
      "metadata": {
        "colab": {
          "base_uri": "https://localhost:8080/"
        },
        "id": "YCryUbxA5mcn",
        "outputId": "b7a191ad-1d91-413c-836b-1cb39cc5928b"
      },
      "outputs": [
        {
          "output_type": "stream",
          "name": "stdout",
          "text": [
            "Tokens: ['F', 'ernand', 'o']\n",
            "IDs de tokens: [37, 13023, 78]\n"
          ]
        }
      ],
      "source": [
        "from transformers import GPT2Tokenizer\n",
        "\n",
        "tokenizer = GPT2Tokenizer.from_pretrained(\"gpt2\")\n",
        "tokens = tokenizer.tokenize(\"Fernando\")\n",
        "token_ids = tokenizer.convert_tokens_to_ids(tokens)\n",
        "\n",
        "print(f\"Tokens: {tokens}\")\n",
        "print(f\"IDs de tokens: {token_ids}\")\n"
      ]
    },
    {
      "cell_type": "code",
      "source": [
        "from transformers import GPT2Tokenizer\n",
        "\n",
        "tokenizer = GPT2Tokenizer.from_pretrained(\"gpt2\")\n",
        "tokens = tokenizer.tokenize(\"F\")\n",
        "token_ids = tokenizer.convert_tokens_to_ids(tokens)\n",
        "\n",
        "print(f\"Tokens: {tokens}\")\n",
        "print(f\"IDs de tokens: {token_ids}\")"
      ],
      "metadata": {
        "colab": {
          "base_uri": "https://localhost:8080/"
        },
        "id": "TuUGhRDj54ac",
        "outputId": "7eee5a80-3d8b-4f59-aea4-d35565131923"
      },
      "execution_count": null,
      "outputs": [
        {
          "output_type": "stream",
          "name": "stdout",
          "text": [
            "Tokens: ['F']\n",
            "IDs de tokens: [37]\n"
          ]
        }
      ]
    },
    {
      "cell_type": "code",
      "source": [
        "from transformers import GPT2Tokenizer\n",
        "\n",
        "tokenizer = GPT2Tokenizer.from_pretrained(\"gpt2\")\n",
        "tokens = tokenizer.tokenize(\"ernand\")\n",
        "token_ids = tokenizer.convert_tokens_to_ids(tokens)\n",
        "\n",
        "print(f\"Tokens: {tokens}\")\n",
        "print(f\"IDs de tokens: {token_ids}\")"
      ],
      "metadata": {
        "colab": {
          "base_uri": "https://localhost:8080/"
        },
        "id": "8ikn9Dyo6GPf",
        "outputId": "2d5eb74a-8e33-4abb-f375-f38f4c55611a"
      },
      "execution_count": null,
      "outputs": [
        {
          "output_type": "stream",
          "name": "stdout",
          "text": [
            "Tokens: ['ernand']\n",
            "IDs de tokens: [13023]\n"
          ]
        }
      ]
    },
    {
      "cell_type": "code",
      "source": [
        "from transformers import GPT2Tokenizer\n",
        "\n",
        "tokenizer = GPT2Tokenizer.from_pretrained(\"gpt2\")\n",
        "tokens = tokenizer.tokenize(\"o\")\n",
        "token_ids = tokenizer.convert_tokens_to_ids(tokens)\n",
        "\n",
        "print(f\"Tokens: {tokens}\")\n",
        "print(f\"IDs de tokens: {token_ids}\")"
      ],
      "metadata": {
        "colab": {
          "base_uri": "https://localhost:8080/"
        },
        "id": "b27WHZjS59hd",
        "outputId": "6b41d443-5253-4905-8529-cfaa8c657825"
      },
      "execution_count": null,
      "outputs": [
        {
          "output_type": "stream",
          "name": "stdout",
          "text": [
            "Tokens: ['o']\n",
            "IDs de tokens: [78]\n"
          ]
        }
      ]
    }
  ]
}